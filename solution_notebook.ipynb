{
 "cells": [
  {
   "cell_type": "markdown",
   "metadata": {},
   "source": [
    "# Hola &#x1F600;,\n",
    "\n",
    "Soy **Hesus Garcia** – **\"Soy el único Hesus que conoces (y probablemente conocerás) 🌟\"** – Sí, como \"Jesús\", pero con una H que me hace único. Puede sonar raro, pero créeme, ¡no lo olvidarás! Como tu revisor en Triple-Ten, estoy aquí para guiarte y ayudarte a mejorar tu código. Si algo necesita un ajuste, no hay de qué preocuparse; ¡aquí estoy para hacer que tu trabajo brille con todo su potencial! ✨\n",
    "\n",
    "Cada vez que encuentre un detalle importante en tu código, te lo señalaré para que puedas corregirlo y así te prepares para un ambiente de trabajo real, donde el líder de tu equipo actuaría de manera similar. Si en algún momento no logras solucionar el problema, te daré más detalles para ayudarte en nuestra próxima oportunidad de revisión.\n",
    "\n",
    "Es importante que cuando encuentres un comentario, **no los muevas, no los modifiques, ni los borres**.\n",
    "\n",
    "---\n",
    "\n",
    "### Formato de Comentarios\n",
    "\n",
    "Revisaré cuidadosamente cada implementación en tu notebook para asegurar que cumpla con los requisitos y te daré comentarios de acuerdo al siguiente formato:\n",
    "\n",
    "\n",
    "<div class=\"alert alert-block alert-success\">\n",
    "<b>Comentario del revisor</b> <a class=\"tocSkip\"></a><br>\n",
    "    \n",
    "<b>Éxito</b> - ¡Excelente trabajo! Esta parte está bien implementada y contribuye significativamente al análisis de datos o al proyecto. Continúa aplicando estas buenas prácticas en futuras secciones.\n",
    "    \n",
    "</div>\n",
    "\n",
    "<div class=\"alert alert-block alert-warning\">\n",
    "<b>Comentario del revisor</b> <a class=\"tocSkip\"></a><br>\n",
    "    \n",
    "<b>Atención</b> ⚠️ - Este código está correcto, pero se puede optimizar. Considera implementar mejoras para que sea más eficiente y fácil de leer. Esto fortalecerá la calidad de tu proyecto.\n",
    "    \n",
    "</div>\n",
    "\n",
    "<div class=\"alert alert-block alert-danger\">\n",
    "<b>Comentario del revisor</b> <a class=\"tocSkip\"></a><br>\n",
    "    \n",
    "<b>A resolver</b> ❗ - Aquí hay un problema o error en el código que es necesario corregir para aprobar esta sección. Por favor, revisa y corrige este punto, ya que es fundamental para la validez del análisis y la precisión de los resultados.\n",
    "    \n",
    "</div>\n",
    "\n",
    "---\n",
    "\n",
    "Al final de cada revisión, recibirás un **Comentario General del Revisor** que incluirá:\n",
    "\n",
    "- **Aspectos positivos:** Un resumen de los puntos fuertes de tu proyecto.\n",
    "- **Áreas de mejora:** Sugerencias sobre aspectos donde puedes mejorar.\n",
    "- **Temas adicionales para investigar:** Ideas de temas opcionales que puedes explorar por tu cuenta para desarrollar aún más tus habilidades.\n",
    "\n",
    "Estos temas adicionales no son obligatorios en esta etapa, pero pueden serte útiles para profundizar en el futuro.\n",
    "\n",
    "---\n",
    "\n",
    "\n",
    "Esta estructura en viñetas facilita la lectura y comprensión de cada parte del comentario final.\n",
    "\n",
    "También puedes responderme de la siguiente manera si tienes alguna duda o quieres aclarar algo específico:\n",
    "\n",
    "\n",
    "<div class=\"alert alert-block alert-info\">\n",
    "<b>Respuesta del estudiante</b> <a class=\"tocSkip\"></a>\n",
    "    \n",
    "Aquí puedes escribir tu respuesta o pregunta sobre el comentario.\n",
    "    \n",
    "</div>\n",
    "\n",
    "\n",
    "**¡Empecemos!** &#x1F680;\n"
   ]
  },
  {
   "cell_type": "markdown",
   "metadata": {},
   "source": [
    "# Introducción\n",
    "En el desarrollo de este proyecto se abarcará lo visto durante el desarrollo del bootcamp, encaminado a una caso real en donde a un operador de telecomunicaciones llamado Interconnect le gustaría poder pronosticar su tasa de cancelación de clientes. Si se descubre que un usuario o usuaria planea irse, se le ofrecerán códigos promocionales y opciones de planes especiales. Lo anterior tomando como base información que el equipo de marketing de Interconnect ha recopilado sobre algunos de los datos personales de sus clientes, incluyendo información sobre sus planes y contratos."
   ]
  },
  {
   "cell_type": "code",
   "execution_count": 16,
   "metadata": {},
   "outputs": [],
   "source": [
    "# importación de librerias\n",
    "import pandas as pd\n",
    "import numpy as np\n",
    "import seaborn as sns\n",
    "from matplotlib import pyplot as plt\n",
    "from scipy import stats as st\n",
    "from sklearn.model_selection import cross_val_score, train_test_split, GridSearchCV\n",
    "from sklearn.ensemble import RandomForestClassifier\n",
    "from sklearn.preprocessing import StandardScaler, OrdinalEncoder\n",
    "from sklearn.metrics import accuracy_score, precision_score, roc_curve, roc_auc_score, r2_score, classification_report, make_scorer"
   ]
  },
  {
   "cell_type": "code",
   "execution_count": 2,
   "metadata": {},
   "outputs": [],
   "source": [
    "# Cargue de datasets\n",
    "contract = pd.read_csv('./contract.csv')\n",
    "personal = pd.read_csv('./personal.csv')\n",
    "internet = pd.read_csv('./internet.csv')\n",
    "phone = pd.read_csv('./phone.csv')"
   ]
  },
  {
   "cell_type": "code",
   "execution_count": 3,
   "metadata": {},
   "outputs": [
    {
     "name": "stdout",
     "output_type": "stream",
     "text": [
      "Tamaños:\n",
      "Contract: (7043, 8)\n",
      "Personal: (7043, 5)\n",
      "Internet: (5517, 8)\n",
      "Phone: (6361, 2)\n"
     ]
    }
   ],
   "source": [
    "# Inspección inicial de cada dataset\n",
    "print(\"Tamaños:\")\n",
    "print(\"Contract:\", contract.shape)\n",
    "print(\"Personal:\", personal.shape)\n",
    "print(\"Internet:\", internet.shape)\n",
    "print(\"Phone:\", phone.shape)"
   ]
  },
  {
   "cell_type": "code",
   "execution_count": 4,
   "metadata": {},
   "outputs": [
    {
     "name": "stdout",
     "output_type": "stream",
     "text": [
      "Contenido Contract:\n",
      "   customerID   BeginDate              EndDate            Type  \\\n",
      "0  7590-VHVEG  2020-01-01                   No  Month-to-month   \n",
      "1  5575-GNVDE  2017-04-01                   No        One year   \n",
      "2  3668-QPYBK  2019-10-01  2019-12-01 00:00:00  Month-to-month   \n",
      "3  7795-CFOCW  2016-05-01                   No        One year   \n",
      "4  9237-HQITU  2019-09-01  2019-11-01 00:00:00  Month-to-month   \n",
      "\n",
      "  PaperlessBilling              PaymentMethod  MonthlyCharges TotalCharges  \n",
      "0              Yes           Electronic check           29.85        29.85  \n",
      "1               No               Mailed check           56.95       1889.5  \n",
      "2              Yes               Mailed check           53.85       108.15  \n",
      "3               No  Bank transfer (automatic)           42.30      1840.75  \n",
      "4              Yes           Electronic check           70.70       151.65  \n",
      "Contenido Personal:\n",
      "   customerID  gender  SeniorCitizen Partner Dependents\n",
      "0  7590-VHVEG  Female              0     Yes         No\n",
      "1  5575-GNVDE    Male              0      No         No\n",
      "2  3668-QPYBK    Male              0      No         No\n",
      "3  7795-CFOCW    Male              0      No         No\n",
      "4  9237-HQITU  Female              0      No         No\n",
      "Contenido Internet:\n",
      "   customerID InternetService OnlineSecurity OnlineBackup DeviceProtection  \\\n",
      "0  7590-VHVEG             DSL             No          Yes               No   \n",
      "1  5575-GNVDE             DSL            Yes           No              Yes   \n",
      "2  3668-QPYBK             DSL            Yes          Yes               No   \n",
      "3  7795-CFOCW             DSL            Yes           No              Yes   \n",
      "4  9237-HQITU     Fiber optic             No           No               No   \n",
      "\n",
      "  TechSupport StreamingTV StreamingMovies  \n",
      "0          No          No              No  \n",
      "1          No          No              No  \n",
      "2          No          No              No  \n",
      "3         Yes          No              No  \n",
      "4          No          No              No  \n",
      "Contenido Phone:\n"
     ]
    },
    {
     "data": {
      "text/html": [
       "<div>\n",
       "<style scoped>\n",
       "    .dataframe tbody tr th:only-of-type {\n",
       "        vertical-align: middle;\n",
       "    }\n",
       "\n",
       "    .dataframe tbody tr th {\n",
       "        vertical-align: top;\n",
       "    }\n",
       "\n",
       "    .dataframe thead th {\n",
       "        text-align: right;\n",
       "    }\n",
       "</style>\n",
       "<table border=\"1\" class=\"dataframe\">\n",
       "  <thead>\n",
       "    <tr style=\"text-align: right;\">\n",
       "      <th></th>\n",
       "      <th>customerID</th>\n",
       "      <th>MultipleLines</th>\n",
       "    </tr>\n",
       "  </thead>\n",
       "  <tbody>\n",
       "    <tr>\n",
       "      <th>0</th>\n",
       "      <td>5575-GNVDE</td>\n",
       "      <td>No</td>\n",
       "    </tr>\n",
       "    <tr>\n",
       "      <th>1</th>\n",
       "      <td>3668-QPYBK</td>\n",
       "      <td>No</td>\n",
       "    </tr>\n",
       "    <tr>\n",
       "      <th>2</th>\n",
       "      <td>9237-HQITU</td>\n",
       "      <td>No</td>\n",
       "    </tr>\n",
       "    <tr>\n",
       "      <th>3</th>\n",
       "      <td>9305-CDSKC</td>\n",
       "      <td>Yes</td>\n",
       "    </tr>\n",
       "    <tr>\n",
       "      <th>4</th>\n",
       "      <td>1452-KIOVK</td>\n",
       "      <td>Yes</td>\n",
       "    </tr>\n",
       "  </tbody>\n",
       "</table>\n",
       "</div>"
      ],
      "text/plain": [
       "   customerID MultipleLines\n",
       "0  5575-GNVDE            No\n",
       "1  3668-QPYBK            No\n",
       "2  9237-HQITU            No\n",
       "3  9305-CDSKC           Yes\n",
       "4  1452-KIOVK           Yes"
      ]
     },
     "execution_count": 4,
     "metadata": {},
     "output_type": "execute_result"
    }
   ],
   "source": [
    "# visualización de contenido de cada dataset\n",
    "print(\"Contenido Contract:\")\n",
    "print(contract.head())\n",
    "print(\"Contenido Personal:\")\n",
    "print(personal.head())\n",
    "print(\"Contenido Internet:\")\n",
    "print(internet.head())\n",
    "print(\"Contenido Phone:\")\n",
    "phone.head()"
   ]
  },
  {
   "cell_type": "markdown",
   "metadata": {},
   "source": [
    "<div class=\"alert alert-block alert-success\"> \n",
    "<b>Comentario del revisor</b> <a class=\"tocSkip\"></a><br> \n",
    "<b>Éxito</b> - ¡Buen comienzo! La carga de librerías y datasets está bien organizada, y la inspección inicial es clara y funcional. Este enfoque muestra orden en el flujo de trabajo y facilita el análisis posterior.\n",
    "</div>\n"
   ]
  },
  {
   "cell_type": "code",
   "execution_count": 5,
   "metadata": {},
   "outputs": [
    {
     "name": "stdout",
     "output_type": "stream",
     "text": [
      "   customerID   BeginDate              EndDate            Type  \\\n",
      "0  7590-VHVEG  2020-01-01                   No  Month-to-month   \n",
      "1  5575-GNVDE  2017-04-01                   No        One year   \n",
      "2  3668-QPYBK  2019-10-01  2019-12-01 00:00:00  Month-to-month   \n",
      "3  7795-CFOCW  2016-05-01                   No        One year   \n",
      "4  9237-HQITU  2019-09-01  2019-11-01 00:00:00  Month-to-month   \n",
      "\n",
      "  PaperlessBilling              PaymentMethod  MonthlyCharges TotalCharges  \\\n",
      "0              Yes           Electronic check           29.85        29.85   \n",
      "1               No               Mailed check           56.95       1889.5   \n",
      "2              Yes               Mailed check           53.85       108.15   \n",
      "3               No  Bank transfer (automatic)           42.30      1840.75   \n",
      "4              Yes           Electronic check           70.70       151.65   \n",
      "\n",
      "   gender  SeniorCitizen Partner Dependents InternetService OnlineSecurity  \\\n",
      "0  Female              0     Yes         No             DSL             No   \n",
      "1    Male              0      No         No             DSL            Yes   \n",
      "2    Male              0      No         No             DSL            Yes   \n",
      "3    Male              0      No         No             DSL            Yes   \n",
      "4  Female              0      No         No     Fiber optic             No   \n",
      "\n",
      "  OnlineBackup DeviceProtection TechSupport StreamingTV StreamingMovies  \\\n",
      "0          Yes               No          No          No              No   \n",
      "1           No              Yes          No          No              No   \n",
      "2          Yes               No          No          No              No   \n",
      "3           No              Yes         Yes          No              No   \n",
      "4           No               No          No          No              No   \n",
      "\n",
      "  MultipleLines  \n",
      "0           NaN  \n",
      "1            No  \n",
      "2            No  \n",
      "3           NaN  \n",
      "4            No  \n"
     ]
    },
    {
     "data": {
      "text/html": [
       "<div>\n",
       "<style scoped>\n",
       "    .dataframe tbody tr th:only-of-type {\n",
       "        vertical-align: middle;\n",
       "    }\n",
       "\n",
       "    .dataframe tbody tr th {\n",
       "        vertical-align: top;\n",
       "    }\n",
       "\n",
       "    .dataframe thead th {\n",
       "        text-align: right;\n",
       "    }\n",
       "</style>\n",
       "<table border=\"1\" class=\"dataframe\">\n",
       "  <thead>\n",
       "    <tr style=\"text-align: right;\">\n",
       "      <th></th>\n",
       "      <th>MonthlyCharges</th>\n",
       "      <th>SeniorCitizen</th>\n",
       "    </tr>\n",
       "  </thead>\n",
       "  <tbody>\n",
       "    <tr>\n",
       "      <th>count</th>\n",
       "      <td>7043.000000</td>\n",
       "      <td>7043.000000</td>\n",
       "    </tr>\n",
       "    <tr>\n",
       "      <th>mean</th>\n",
       "      <td>64.761692</td>\n",
       "      <td>0.162147</td>\n",
       "    </tr>\n",
       "    <tr>\n",
       "      <th>std</th>\n",
       "      <td>30.090047</td>\n",
       "      <td>0.368612</td>\n",
       "    </tr>\n",
       "    <tr>\n",
       "      <th>min</th>\n",
       "      <td>18.250000</td>\n",
       "      <td>0.000000</td>\n",
       "    </tr>\n",
       "    <tr>\n",
       "      <th>25%</th>\n",
       "      <td>35.500000</td>\n",
       "      <td>0.000000</td>\n",
       "    </tr>\n",
       "    <tr>\n",
       "      <th>50%</th>\n",
       "      <td>70.350000</td>\n",
       "      <td>0.000000</td>\n",
       "    </tr>\n",
       "    <tr>\n",
       "      <th>75%</th>\n",
       "      <td>89.850000</td>\n",
       "      <td>0.000000</td>\n",
       "    </tr>\n",
       "    <tr>\n",
       "      <th>max</th>\n",
       "      <td>118.750000</td>\n",
       "      <td>1.000000</td>\n",
       "    </tr>\n",
       "  </tbody>\n",
       "</table>\n",
       "</div>"
      ],
      "text/plain": [
       "       MonthlyCharges  SeniorCitizen\n",
       "count     7043.000000    7043.000000\n",
       "mean        64.761692       0.162147\n",
       "std         30.090047       0.368612\n",
       "min         18.250000       0.000000\n",
       "25%         35.500000       0.000000\n",
       "50%         70.350000       0.000000\n",
       "75%         89.850000       0.000000\n",
       "max        118.750000       1.000000"
      ]
     },
     "execution_count": 5,
     "metadata": {},
     "output_type": "execute_result"
    }
   ],
   "source": [
    "# Unificación dataset por customerID\n",
    "df = contract.merge(personal, on='customerID', how='left') \\\n",
    "             .merge(internet, on='customerID', how='left') \\\n",
    "             .merge(phone, on='customerID', how='left')\n",
    "print(df.head())\n",
    "df.describe()"
   ]
  },
  {
   "cell_type": "code",
   "execution_count": 6,
   "metadata": {},
   "outputs": [
    {
     "name": "stdout",
     "output_type": "stream",
     "text": [
      "Index(['customerID', 'BeginDate', 'EndDate', 'Type', 'PaperlessBilling',\n",
      "       'PaymentMethod', 'MonthlyCharges', 'TotalCharges', 'gender',\n",
      "       'SeniorCitizen', 'Partner', 'Dependents', 'InternetService',\n",
      "       'OnlineSecurity', 'OnlineBackup', 'DeviceProtection', 'TechSupport',\n",
      "       'StreamingTV', 'StreamingMovies', 'MultipleLines'],\n",
      "      dtype='object')\n"
     ]
    },
    {
     "data": {
      "text/plain": [
       "Index(['customerid', 'begindate', 'enddate', 'type', 'paperlessbilling',\n",
       "       'paymentmethod', 'monthlycharges', 'totalcharges', 'gender',\n",
       "       'seniorcitizen', 'partner', 'dependents', 'internetservice',\n",
       "       'onlinesecurity', 'onlinebackup', 'deviceprotection', 'techsupport',\n",
       "       'streamingtv', 'streamingmovies', 'multiplelines'],\n",
       "      dtype='object')"
      ]
     },
     "execution_count": 6,
     "metadata": {},
     "output_type": "execute_result"
    }
   ],
   "source": [
    "# corrección de llamado de columnas\n",
    "print(df.columns)\n",
    "\n",
    "new_name_columns = []\n",
    "\n",
    "for column in df.columns:\n",
    "    name_lower_case = column.lower()\n",
    "    new_name_columns.append(name_lower_case)\n",
    "df.columns = new_name_columns\n",
    "\n",
    "df.columns"
   ]
  },
  {
   "cell_type": "code",
   "execution_count": 7,
   "metadata": {},
   "outputs": [
    {
     "data": {
      "text/plain": [
       "Index(['customer_id', 'begin_date', 'end_date', 'contract_type',\n",
       "       'paperless_billing', 'payment_method', 'monthly_charges',\n",
       "       'total_charges', 'gender', 'senior_citizen', 'partner', 'dependents',\n",
       "       'internet_service', 'online_security', 'online_backup',\n",
       "       'device_protection', 'tech_support', 'streaming_tv', 'streaming_movies',\n",
       "       'multiple_lines'],\n",
       "      dtype='object')"
      ]
     },
     "execution_count": 7,
     "metadata": {},
     "output_type": "execute_result"
    }
   ],
   "source": [
    "df.columns = [\n",
    "    'customer_id', 'begin_date', 'end_date', 'contract_type', 'paperless_billing',\n",
    "    'payment_method', 'monthly_charges', 'total_charges', 'gender',\n",
    "    'senior_citizen', 'partner', 'dependents', 'internet_service',\n",
    "    'online_security', 'online_backup', 'device_protection', 'tech_support',\n",
    "    'streaming_tv', 'streaming_movies', 'multiple_lines'\n",
    "]\n",
    "\n",
    "df.columns"
   ]
  },
  {
   "cell_type": "markdown",
   "metadata": {},
   "source": [
    "<div class=\"alert alert-block alert-success\"> \n",
    "<b>Comentario del revisor</b> <a class=\"tocSkip\"></a><br> \n",
    "<b>Éxito</b> - ¡Muy bien logrado! La unificación de datasets y la estandarización de nombres de columnas están implementadas con claridad y precisión. Esta base ordenada facilitará mucho el trabajo de análisis y modelado posterior.\n",
    "</div>\n"
   ]
  },
  {
   "cell_type": "code",
   "execution_count": 8,
   "metadata": {},
   "outputs": [
    {
     "name": "stdout",
     "output_type": "stream",
     "text": [
      "[                          'NaT' '2019-12-01T00:00:00.000000000'\n",
      " '2019-11-01T00:00:00.000000000' '2019-10-01T00:00:00.000000000'\n",
      " '2020-01-01T00:00:00.000000000']\n",
      "0    5174\n",
      "1    1869\n",
      "Name: unsubscribe, dtype: int64\n"
     ]
    }
   ],
   "source": [
    "# creación de columna con distribución de variable objetivo\n",
    "df['unsubscribe'] = df['end_date'].apply(lambda x: 0 if x == 'No' else 1)\n",
    "\n",
    "df['end_date'] = pd.to_datetime(df['end_date'], errors='coerce')\n",
    "df['begin_date'] = pd.to_datetime(df['begin_date'], errors='coerce')\n",
    "\n",
    "print(df['end_date'].unique())\n",
    "\n",
    "print(df['unsubscribe'].value_counts())"
   ]
  },
  {
   "cell_type": "code",
   "execution_count": 9,
   "metadata": {},
   "outputs": [
    {
     "name": "stdout",
     "output_type": "stream",
     "text": [
      "Valores duplicados:\n",
      " 0\n",
      "\n",
      "Valores nulos:\n",
      " customer_id             0\n",
      "begin_date              0\n",
      "end_date             5163\n",
      "contract_type           0\n",
      "paperless_billing       0\n",
      "payment_method          0\n",
      "monthly_charges         0\n",
      "total_charges           0\n",
      "gender                  0\n",
      "senior_citizen          0\n",
      "partner                 0\n",
      "dependents              0\n",
      "internet_service     1520\n",
      "online_security      1520\n",
      "online_backup        1520\n",
      "device_protection    1520\n",
      "tech_support         1520\n",
      "streaming_tv         1520\n",
      "streaming_movies     1520\n",
      "multiple_lines        680\n",
      "unsubscribe             0\n",
      "dtype: int64\n"
     ]
    }
   ],
   "source": [
    "# exploración general de dataset\n",
    "print(\"Valores duplicados:\\n\", df.duplicated().sum())\n",
    "\n",
    "# Convertir total_charges a numérico (puede tener valores vacíos)\n",
    "df['total_charges'] = pd.to_numeric(df['total_charges'], errors='coerce')\n",
    "\n",
    "df = df[df['total_charges'].notna()]\n",
    "\n",
    "# Mostrar valores nulos\n",
    "print(\"\\nValores nulos:\\n\", df.isna().sum())"
   ]
  },
  {
   "cell_type": "code",
   "execution_count": 10,
   "metadata": {},
   "outputs": [
    {
     "name": "stdout",
     "output_type": "stream",
     "text": [
      "Tamaño nuevo luego de codificación: (5512, 23)\n",
      "True\n"
     ]
    },
    {
     "data": {
      "text/html": [
       "<div>\n",
       "<style scoped>\n",
       "    .dataframe tbody tr th:only-of-type {\n",
       "        vertical-align: middle;\n",
       "    }\n",
       "\n",
       "    .dataframe tbody tr th {\n",
       "        vertical-align: top;\n",
       "    }\n",
       "\n",
       "    .dataframe thead th {\n",
       "        text-align: right;\n",
       "    }\n",
       "</style>\n",
       "<table border=\"1\" class=\"dataframe\">\n",
       "  <thead>\n",
       "    <tr style=\"text-align: right;\">\n",
       "      <th></th>\n",
       "      <th>contract_type</th>\n",
       "      <th>monthly_charges</th>\n",
       "      <th>total_charges</th>\n",
       "      <th>senior_citizen</th>\n",
       "      <th>internet_service</th>\n",
       "      <th>unsubscribe</th>\n",
       "      <th>paperless_billing_Yes</th>\n",
       "      <th>payment_method_Credit card (automatic)</th>\n",
       "      <th>payment_method_Electronic check</th>\n",
       "      <th>payment_method_Mailed check</th>\n",
       "      <th>gender_Male</th>\n",
       "      <th>partner_Yes</th>\n",
       "      <th>dependents_Yes</th>\n",
       "      <th>online_security_Yes</th>\n",
       "      <th>online_backup_Yes</th>\n",
       "      <th>device_protection_Yes</th>\n",
       "      <th>tech_support_Yes</th>\n",
       "      <th>streaming_tv_Yes</th>\n",
       "      <th>streaming_movies_Yes</th>\n",
       "      <th>multiple_lines_Yes</th>\n",
       "    </tr>\n",
       "  </thead>\n",
       "  <tbody>\n",
       "    <tr>\n",
       "      <th>536</th>\n",
       "      <td>0.0</td>\n",
       "      <td>81.55</td>\n",
       "      <td>5029.05</td>\n",
       "      <td>0</td>\n",
       "      <td>1.0</td>\n",
       "      <td>0</td>\n",
       "      <td>1</td>\n",
       "      <td>0</td>\n",
       "      <td>0</td>\n",
       "      <td>0</td>\n",
       "      <td>0</td>\n",
       "      <td>1</td>\n",
       "      <td>0</td>\n",
       "      <td>0</td>\n",
       "      <td>1</td>\n",
       "      <td>0</td>\n",
       "      <td>0</td>\n",
       "      <td>0</td>\n",
       "      <td>0</td>\n",
       "      <td>1</td>\n",
       "    </tr>\n",
       "    <tr>\n",
       "      <th>5588</th>\n",
       "      <td>0.0</td>\n",
       "      <td>49.65</td>\n",
       "      <td>49.65</td>\n",
       "      <td>0</td>\n",
       "      <td>0.0</td>\n",
       "      <td>1</td>\n",
       "      <td>1</td>\n",
       "      <td>0</td>\n",
       "      <td>0</td>\n",
       "      <td>1</td>\n",
       "      <td>1</td>\n",
       "      <td>0</td>\n",
       "      <td>0</td>\n",
       "      <td>0</td>\n",
       "      <td>0</td>\n",
       "      <td>1</td>\n",
       "      <td>0</td>\n",
       "      <td>0</td>\n",
       "      <td>0</td>\n",
       "      <td>0</td>\n",
       "    </tr>\n",
       "    <tr>\n",
       "      <th>3566</th>\n",
       "      <td>1.0</td>\n",
       "      <td>84.60</td>\n",
       "      <td>4449.75</td>\n",
       "      <td>0</td>\n",
       "      <td>0.0</td>\n",
       "      <td>0</td>\n",
       "      <td>1</td>\n",
       "      <td>0</td>\n",
       "      <td>1</td>\n",
       "      <td>0</td>\n",
       "      <td>0</td>\n",
       "      <td>0</td>\n",
       "      <td>1</td>\n",
       "      <td>0</td>\n",
       "      <td>1</td>\n",
       "      <td>1</td>\n",
       "      <td>1</td>\n",
       "      <td>1</td>\n",
       "      <td>1</td>\n",
       "      <td>1</td>\n",
       "    </tr>\n",
       "    <tr>\n",
       "      <th>167</th>\n",
       "      <td>2.0</td>\n",
       "      <td>89.05</td>\n",
       "      <td>6254.45</td>\n",
       "      <td>0</td>\n",
       "      <td>0.0</td>\n",
       "      <td>0</td>\n",
       "      <td>1</td>\n",
       "      <td>0</td>\n",
       "      <td>0</td>\n",
       "      <td>0</td>\n",
       "      <td>1</td>\n",
       "      <td>1</td>\n",
       "      <td>0</td>\n",
       "      <td>1</td>\n",
       "      <td>1</td>\n",
       "      <td>1</td>\n",
       "      <td>1</td>\n",
       "      <td>1</td>\n",
       "      <td>1</td>\n",
       "      <td>1</td>\n",
       "    </tr>\n",
       "    <tr>\n",
       "      <th>4177</th>\n",
       "      <td>0.0</td>\n",
       "      <td>45.65</td>\n",
       "      <td>985.05</td>\n",
       "      <td>0</td>\n",
       "      <td>0.0</td>\n",
       "      <td>0</td>\n",
       "      <td>0</td>\n",
       "      <td>0</td>\n",
       "      <td>0</td>\n",
       "      <td>1</td>\n",
       "      <td>1</td>\n",
       "      <td>0</td>\n",
       "      <td>1</td>\n",
       "      <td>0</td>\n",
       "      <td>0</td>\n",
       "      <td>0</td>\n",
       "      <td>0</td>\n",
       "      <td>0</td>\n",
       "      <td>0</td>\n",
       "      <td>0</td>\n",
       "    </tr>\n",
       "  </tbody>\n",
       "</table>\n",
       "</div>"
      ],
      "text/plain": [
       "      contract_type  monthly_charges  total_charges  senior_citizen  \\\n",
       "536             0.0            81.55        5029.05               0   \n",
       "5588            0.0            49.65          49.65               0   \n",
       "3566            1.0            84.60        4449.75               0   \n",
       "167             2.0            89.05        6254.45               0   \n",
       "4177            0.0            45.65         985.05               0   \n",
       "\n",
       "      internet_service  unsubscribe  paperless_billing_Yes  \\\n",
       "536                1.0            0                      1   \n",
       "5588               0.0            1                      1   \n",
       "3566               0.0            0                      1   \n",
       "167                0.0            0                      1   \n",
       "4177               0.0            0                      0   \n",
       "\n",
       "      payment_method_Credit card (automatic)  payment_method_Electronic check  \\\n",
       "536                                        0                                0   \n",
       "5588                                       0                                0   \n",
       "3566                                       0                                1   \n",
       "167                                        0                                0   \n",
       "4177                                       0                                0   \n",
       "\n",
       "      payment_method_Mailed check  gender_Male  partner_Yes  dependents_Yes  \\\n",
       "536                             0            0            1               0   \n",
       "5588                            1            1            0               0   \n",
       "3566                            0            0            0               1   \n",
       "167                             0            1            1               0   \n",
       "4177                            1            1            0               1   \n",
       "\n",
       "      online_security_Yes  online_backup_Yes  device_protection_Yes  \\\n",
       "536                     0                  1                      0   \n",
       "5588                    0                  0                      1   \n",
       "3566                    0                  1                      1   \n",
       "167                     1                  1                      1   \n",
       "4177                    0                  0                      0   \n",
       "\n",
       "      tech_support_Yes  streaming_tv_Yes  streaming_movies_Yes  \\\n",
       "536                  0                 0                     0   \n",
       "5588                 0                 0                     0   \n",
       "3566                 1                 1                     1   \n",
       "167                  1                 1                     1   \n",
       "4177                 0                 0                     0   \n",
       "\n",
       "      multiple_lines_Yes  \n",
       "536                    1  \n",
       "5588                   0  \n",
       "3566                   1  \n",
       "167                    1  \n",
       "4177                   0  "
      ]
     },
     "execution_count": 10,
     "metadata": {},
     "output_type": "execute_result"
    }
   ],
   "source": [
    "# codificación de variables\n",
    "\n",
    "# one-hot encoding\n",
    "categorical_columns = [\n",
    "    'paperless_billing', 'payment_method', 'gender',\n",
    "    'partner', 'dependents', 'online_security',\n",
    "    'online_backup', 'device_protection', 'tech_support',\n",
    "    'streaming_tv', 'streaming_movies', 'multiple_lines'\n",
    "]\n",
    "\n",
    "# ordinal encore\n",
    "ordinal_columns = ['contract_type', 'internet_service']\n",
    "\n",
    "df = df.dropna(subset=ordinal_columns)\n",
    "encoder = OrdinalEncoder()\n",
    "df[ordinal_columns] = encoder.fit_transform(df[ordinal_columns])\n",
    "\n",
    "# Aplicación One-Hot Encoding (sin columna objetivo)\n",
    "df_encoded = pd.get_dummies(df, columns=categorical_columns, drop_first=True)\n",
    "\n",
    "print(\"Tamaño nuevo luego de codificación:\", df_encoded.shape)\n",
    "\n",
    "print('unsubscribe' in df_encoded.columns)\n",
    "\n",
    "df_encoded.drop(['customer_id', 'begin_date', 'end_date'], axis=1, inplace=True)\n",
    "\n",
    "df_encoded.sample(5)"
   ]
  },
  {
   "cell_type": "markdown",
   "metadata": {},
   "source": [
    "Ahora procedo a preparar el dataset para la evaluación del modelo, separando las variable objetivo del resto."
   ]
  },
  {
   "cell_type": "markdown",
   "metadata": {},
   "source": [
    "<div class=\"alert alert-block alert-success\"> \n",
    "<b>Comentario del revisor</b> <a class=\"tocSkip\"></a><br> \n",
    "<b>Éxito</b> - Muy clara y estructurada la preparación del dataset. Se implementa correctamente la creación de la variable objetivo, la limpieza de datos y la codificación de variables categóricas. La transformación muestra un buen dominio del flujo típico en proyectos de clasificación.\n",
    "</div>\n"
   ]
  },
  {
   "cell_type": "code",
   "execution_count": 11,
   "metadata": {},
   "outputs": [
    {
     "name": "stdout",
     "output_type": "stream",
     "text": [
      "Distribución en todo target:\n",
      "0    3756\n",
      "1    1756\n",
      "Name: unsubscribe, dtype: int64\n"
     ]
    }
   ],
   "source": [
    "# Separar características de objetivo\n",
    "features = df_encoded.drop(columns=['unsubscribe'])\n",
    "target = df_encoded['unsubscribe']\n",
    "\n",
    "print(\"Distribución en todo target:\")\n",
    "print(target.value_counts())\n",
    "\n",
    "# División datos de entranamiento y prueba \n",
    "\n",
    "# División del conjunto de prueba final (20%)\n",
    "features_train, features_test, target_train, target_test = train_test_split(\n",
    "    features, target, test_size=0.2, random_state=24211709, stratify=target\n",
    ")"
   ]
  },
  {
   "cell_type": "code",
   "execution_count": 12,
   "metadata": {},
   "outputs": [
    {
     "name": "stdout",
     "output_type": "stream",
     "text": [
      "AUC-ROC: 0.7987\n",
      "Accuracy: 0.7434\n"
     ]
    }
   ],
   "source": [
    "\n",
    "# creación y entrenamiento del modelo random forest\n",
    "model_rf = RandomForestClassifier(random_state=24211709)\n",
    "model_rf.fit(features_train, target_train)\n",
    "\n",
    "# Predicciones\n",
    "target_pred = model_rf.predict(features_test)\n",
    "target_prob = model_rf.predict_proba(features_test)[:, 1]  # Probabilidad de clase 1\n",
    "\n",
    "# Métricas\n",
    "auc = roc_auc_score(target_test, target_prob)\n",
    "accuracy = accuracy_score(target_test, target_pred)\n",
    "\n",
    "print(f\"AUC-ROC: {auc:.4f}\")\n",
    "print(f\"Accuracy: {accuracy:.4f}\")"
   ]
  },
  {
   "cell_type": "code",
   "execution_count": 13,
   "metadata": {},
   "outputs": [
    {
     "data": {
      "image/png": "[encoded data removed]",
      "text/plain": [
       "<Figure size 800x600 with 1 Axes>"
      ]
     },
     "metadata": {},
     "output_type": "display_data"
    }
   ],
   "source": [
    "# gráfica Curva ROC \n",
    "fpr, tpr, thresholds = roc_curve(target_test, target_prob)\n",
    "\n",
    "plt.figure(figsize=(8, 6))\n",
    "plt.plot(fpr, tpr, label=f'AUC-ROC = {auc:.4f}', color='blue')\n",
    "plt.plot([0, 1], [0, 1], 'k--', label='Modelo aleatorio')\n",
    "plt.xlabel('Tasa de Falsos Positivos (FPR)')\n",
    "plt.ylabel('Tasa de Verdaderos Positivos (TPR)')\n",
    "plt.title('Curva ROC - Random Forest')\n",
    "plt.legend(loc='lower right')\n",
    "plt.grid(True)\n",
    "plt.show()"
   ]
  },
  {
   "cell_type": "markdown",
   "metadata": {},
   "source": [
    "<div class=\"alert alert-block alert-success\"> \n",
    "<b>Comentario del revisor</b> <a class=\"tocSkip\"></a><br> \n",
    "<b>Éxito</b> - Excelente trabajo con la partición de datos, el entrenamiento del modelo y la visualización de la curva ROC. Se evidencia una implementación sólida y las métricas iniciales son prometedoras para un primer modelo base.\n",
    "</div>\n"
   ]
  },
  {
   "cell_type": "markdown",
   "metadata": {},
   "source": [
    "## Mejoramiento del valor de AUC-ROC"
   ]
  },
  {
   "cell_type": "code",
   "execution_count": 18,
   "metadata": {},
   "outputs": [
    {
     "name": "stdout",
     "output_type": "stream",
     "text": [
      "Fitting 5 folds for each of 72 candidates, totalling 360 fits\n",
      "Mejores hiperparámetros: {'max_depth': 8, 'min_samples_leaf': 2, 'min_samples_split': 2, 'n_estimators': 300}\n",
      "Nuevo AUC-ROC: 0.8276\n",
      "Accuracy: 0.7425\n"
     ]
    }
   ],
   "source": [
    "rf_model = RandomForestClassifier(random_state=24211709, class_weight='balanced')\n",
    "\n",
    "# Definimos la malla de hiperparámetros a explorar\n",
    "param_grid = {\n",
    "    'n_estimators': [200, 300, 400],\n",
    "    'max_depth': [6, 8, 10, None],\n",
    "    'min_samples_split': [2, 3],\n",
    "    'min_samples_leaf': [1, 2, 3]\n",
    "}\n",
    "\n",
    "# Usamos AUC como métrica de optimización\n",
    "grid_search = GridSearchCV(\n",
    "    estimator=rf_model,\n",
    "    param_grid=param_grid,\n",
    "    cv=5,  # validación cruzada de 5 pliegues\n",
    "    scoring='roc_auc',\n",
    "    n_jobs=-1,  # usa todos los núcleos disponibles\n",
    "    verbose=1\n",
    ")\n",
    "\n",
    "# Entrenamos con el conjunto de entrenamiento\n",
    "grid_search.fit(features_train, target_train)\n",
    "\n",
    "# Mejor modelo y sus métricas\n",
    "best_rf = grid_search.best_estimator_\n",
    "print(\"Mejores hiperparámetros:\", grid_search.best_params_)\n",
    "\n",
    "# Evaluación\n",
    "target_prob_best = best_rf.predict_proba(features_test)[:, 1]\n",
    "target_pred_best = best_rf.predict(features_test)\n",
    "\n",
    "auc_best = roc_auc_score(target_test, target_prob_best)\n",
    "accuracy_best = accuracy_score(target_test, target_pred_best)\n",
    "\n",
    "print(f\"Nuevo AUC-ROC: {auc_best:.4f}\")\n",
    "print(f\"Accuracy: {accuracy_best:.4f}\")"
   ]
  },
  {
   "cell_type": "markdown",
   "metadata": {},
   "source": [
    "<div class=\"alert alert-block alert-success\"> \n",
    "<b>Comentario del revisor</b> <a class=\"tocSkip\"></a><br> \n",
    "<b>Éxito</b> - ¡Muy buen trabajo optimizando el modelo! La búsqueda de hiperparámetros con validación cruzada y el uso de AUC como métrica principal están bien fundamentados. El incremento en el AUC-ROC refleja una mejora real en la calidad del modelo.\n",
    "</div>\n"
   ]
  },
  {
   "cell_type": "markdown",
   "metadata": {},
   "source": [
    "## Comentario general del revisor "
   ]
  },
  {
   "cell_type": "markdown",
   "metadata": {},
   "source": [
    "\n",
    "\n",
    "<div class=\"alert alert-block alert-success\"> \n",
    "<b>Comentario del revisor</b> <a class=\"tocSkip\"></a>  \n",
    "¡Felicidades! Tu proyecto está <b>aprobado</b>. Has demostrado un excelente manejo de los datos, análisis exploratorio, y creación de modelos predictivos. A continuación, destaco los puntos positivos:\n",
    "\n",
    "#### Puntos Positivos:\n",
    "\n",
    "* **Procesamiento de datos:** Unificaste y preparaste los datasets de forma estructurada, manejando correctamente los valores nulos y transformaciones necesarias.\n",
    "* **Visualización y análisis gráfico:** La curva ROC fue correctamente implementada y permite interpretar el rendimiento del modelo.\n",
    "* **Ingeniería de características:** Creaste una variable objetivo clara y aplicaste codificaciones adecuadas, diferenciando entre ordinales y categóricas.\n",
    "* **Comparación de modelos:** Mostraste una mejora significativa tras el ajuste de hiperparámetros, lo que demuestra criterio para optimizar el desempeño predictivo.\n",
    "\n",
    "Tu enfoque fue preciso y profesional en todas las etapas del proyecto. ¡Vas por muy buen camino en tu formación como analista de datos!\n",
    "\n",
    "</div>\n"
   ]
  },
  {
   "cell_type": "code",
   "execution_count": null,
   "metadata": {},
   "outputs": [],
   "source": []
  }
 ],
 "metadata": {
  "kernelspec": {
   "display_name": "Python 3 (ipykernel)",
   "language": "python",
   "name": "python3"
  },
  "language_info": {
   "codemirror_mode": {
    "name": "ipython",
    "version": 3
   },
   "file_extension": ".py",
   "mimetype": "text/x-python",
   "name": "python",
   "nbconvert_exporter": "python",
   "pygments_lexer": "ipython3",
   "version": "3.9.23"
  }
 },
 "nbformat": 4,
 "nbformat_minor": 4
}
